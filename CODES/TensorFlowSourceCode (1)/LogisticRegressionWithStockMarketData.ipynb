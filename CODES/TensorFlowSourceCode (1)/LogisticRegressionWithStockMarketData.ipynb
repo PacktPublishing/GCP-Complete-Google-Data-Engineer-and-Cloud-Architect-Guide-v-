{
 "cells": [
  {
   "cell_type": "code",
   "execution_count": 71,
   "metadata": {
    "collapsed": true,
    "deletable": true,
    "editable": true
   },
   "outputs": [],
   "source": [
    "import pandas as pd \n",
    "import numpy as np"
   ]
  },
  {
   "cell_type": "code",
   "execution_count": 72,
   "metadata": {
    "collapsed": true,
    "deletable": true,
    "editable": true
   },
   "outputs": [],
   "source": [
    "def read_goog_sp500_dataframe():\n",
    "  \"\"\"Returns a dataframe with the results for Google and S&P 500\"\"\"\n",
    "  \n",
    "  # Point to where you've stored the CSV file on your local machine\n",
    "  googFile = 'data/GOOG.csv'\n",
    "  spFile = 'data/SP_500.csv'\n",
    "\n",
    "  goog = pd.read_csv(googFile, sep=\",\", usecols=[0,5], names=['Date','Goog'], header=0)\n",
    "  sp = pd.read_csv(spFile, sep=\",\", usecols=[0,5], names=['Date','SP500'], header=0)\n",
    "\n",
    "  goog['SP500'] = sp['SP500']\n",
    "\n",
    "  # The date object is a string, format it as a date\n",
    "  goog['Date'] = pd.to_datetime(goog['Date'], format='%Y-%m-%d')\n",
    "\n",
    "  goog = goog.sort_values(['Date'], ascending=[True])\n",
    "\n",
    "  returns = goog[[key for key in dict(goog.dtypes) if dict(goog.dtypes)[key] in ['float64', 'int64']]]\\\n",
    "            .pct_change()\n",
    "\n",
    "  return returns"
   ]
  },
  {
   "cell_type": "code",
   "execution_count": 73,
   "metadata": {
    "collapsed": true,
    "deletable": true,
    "editable": true
   },
   "outputs": [],
   "source": [
    "def read_goog_sp500_logistic_data():\n",
    "  \"\"\"Returns a dataframe with the results for Google and \n",
    "  S&P 500 set up for logistic regression\"\"\"\n",
    "  returns = read_goog_sp500_dataframe()\n",
    "\n",
    "  returns['Intercept'] = 1\n",
    "\n",
    "  # Leave out the first row since it will not have a prediction for UP/DOWN\n",
    "  # Leave out the last row as it will not have a value for returns\n",
    "  # Resultant dataframe with the S&P500 and intercept values of all 1s\n",
    "  xData = np.array(returns[[\"SP500\", \"Intercept\"]][1:-1])\n",
    "\n",
    "  yData = (returns[\"Goog\"] > 0)[1:-1]\n",
    "\n",
    "  return (xData, yData)"
   ]
  },
  {
   "cell_type": "code",
   "execution_count": 74,
   "metadata": {
    "collapsed": true,
    "deletable": true,
    "editable": true
   },
   "outputs": [],
   "source": [
    "def read_goog_sp500_data():\n",
    "  \"\"\"Returns a tuple with 2 fields, the returns for Google and the S&P 500.\n",
    "  Each of the returns are in the form of a 1D array\"\"\"\n",
    "\n",
    "  returns = read_goog_sp500_dataframe()\n",
    "\n",
    "  # Filter out the very first row which does not have any value for returns\n",
    "  xData = np.array(returns[\"SP500\"])[1:]\n",
    "  yData = np.array(returns[\"Goog\"])[1:]\n",
    "\n",
    "  return (xData, yData)"
   ]
  },
  {
   "cell_type": "code",
   "execution_count": 75,
   "metadata": {
    "collapsed": true,
    "deletable": true,
    "editable": true
   },
   "outputs": [],
   "source": [
    "def read_xom_oil_nasdaq_data():\n",
    "  \"\"\"Returns a tuple with 3 fields, the returns for Exxon Mobil, Nasdaq and oil prices.\n",
    "  Each of the returns are in the form of a 1D array\"\"\"\n",
    "\n",
    "  def readFile(filename):\n",
    "    # Only read in the date and price at columns 0 and 5\n",
    "    data = pd.read_csv(filename, sep=\",\", usecols=[0, 5], names=['Date', 'Price'], header=0)\n",
    "\n",
    "    # Sort the data in ascending order of date so returns can be calculated\n",
    "    data['Date'] = pd.to_datetime(data['Date'], format='%Y-%m-%d')\n",
    "\n",
    "    data = data.sort_values(['Date'], ascending=[True])\n",
    "\n",
    "    # Exclude the date from the percentage change calculation\n",
    "    returns = data[[key for key in dict(data.dtypes) if dict(data.dtypes)[key] in ['float64', 'int64']]]\\\n",
    "              .pct_change()\n",
    "\n",
    "    # Filter out the very first row which has no returns associated with it\n",
    "    return np.array(returns[\"Price\"])[1:]\n",
    "\n",
    "  nasdaqData = readFile('data/NASDAQ.csv')\n",
    "  oilData = readFile('data/USO.csv')\n",
    "  xomData = readFile('data/XOM.csv')\n",
    "\n",
    "  return (nasdaqData, oilData, xomData)"
   ]
  },
  {
   "cell_type": "code",
   "execution_count": 76,
   "metadata": {
    "collapsed": true
   },
   "outputs": [],
   "source": [
    "import pandas as pd \n",
    "import numpy as np\n",
    "import statsmodels.api as sm"
   ]
  },
  {
   "cell_type": "code",
   "execution_count": 77,
   "metadata": {
    "collapsed": true
   },
   "outputs": [],
   "source": [
    "xData, yData = read_goog_sp500_logistic_data()"
   ]
  },
  {
   "cell_type": "code",
   "execution_count": 78,
   "metadata": {
    "collapsed": true
   },
   "outputs": [],
   "source": [
    "logit = sm.Logit(yData, xData)"
   ]
  },
  {
   "cell_type": "code",
   "execution_count": 79,
   "metadata": {
    "collapsed": false
   },
   "outputs": [
    {
     "name": "stdout",
     "output_type": "stream",
     "text": [
      "Optimization terminated successfully.\n",
      "         Current function value: 0.540704\n",
      "         Iterations 6\n"
     ]
    }
   ],
   "source": [
    "# Fit the Logistic model\n",
    "result = logit.fit()"
   ]
  },
  {
   "cell_type": "code",
   "execution_count": 80,
   "metadata": {
    "collapsed": true
   },
   "outputs": [],
   "source": [
    "# All values >0.5 predict an up day for Google\n",
    "predictions = (result.predict(xData) > 0.5)"
   ]
  },
  {
   "cell_type": "code",
   "execution_count": 81,
   "metadata": {
    "collapsed": true
   },
   "outputs": [],
   "source": [
    "# Count the number of times the actual up days match the predicted up days\n",
    "num_accurate_predictions = (list(yData == predictions)).count(True)"
   ]
  },
  {
   "cell_type": "code",
   "execution_count": 82,
   "metadata": {
    "collapsed": true
   },
   "outputs": [],
   "source": [
    "pctAccuracy = float(num_accurate_predictions) / float(len(predictions))"
   ]
  },
  {
   "cell_type": "code",
   "execution_count": 83,
   "metadata": {
    "collapsed": false
   },
   "outputs": [
    {
     "name": "stdout",
     "output_type": "stream",
     "text": [
      "Accuracy:  0.728\n"
     ]
    }
   ],
   "source": [
    "print \"Accuracy: \", pctAccuracy"
   ]
  },
  {
   "cell_type": "code",
   "execution_count": 84,
   "metadata": {
    "collapsed": true
   },
   "outputs": [],
   "source": [
    "import tensorflow as tf"
   ]
  },
  {
   "cell_type": "code",
   "execution_count": 85,
   "metadata": {
    "collapsed": true
   },
   "outputs": [],
   "source": [
    "W = tf.Variable(tf.ones([1, 2]), name=\"W\")\n",
    "b = tf.Variable(tf.zeros([2]), name=\"b\")"
   ]
  },
  {
   "cell_type": "code",
   "execution_count": 86,
   "metadata": {
    "collapsed": true
   },
   "outputs": [],
   "source": [
    "x = tf.placeholder(tf.float32, [None, 1], name=\"x\")"
   ]
  },
  {
   "cell_type": "code",
   "execution_count": 87,
   "metadata": {
    "collapsed": true
   },
   "outputs": [],
   "source": [
    "y_ = tf.placeholder(tf.float32, [None, 2], name=\"y_\")\n",
    "\n",
    "y = tf.matmul(x, W) + b"
   ]
  },
  {
   "cell_type": "code",
   "execution_count": 88,
   "metadata": {
    "collapsed": true
   },
   "outputs": [],
   "source": [
    "cross_entropy = tf.reduce_mean(tf.nn.softmax_cross_entropy_with_logits(labels=y_, logits=y))"
   ]
  },
  {
   "cell_type": "code",
   "execution_count": 89,
   "metadata": {
    "collapsed": true
   },
   "outputs": [],
   "source": [
    "train_step = tf.train.GradientDescentOptimizer(0.5).minimize(cross_entropy)"
   ]
  },
  {
   "cell_type": "code",
   "execution_count": 90,
   "metadata": {
    "collapsed": true
   },
   "outputs": [],
   "source": [
    "# All returns in a 2D array\n",
    "# [[-0.02184618]\n",
    "#  [ 0.00997998]\n",
    "#  [ 0.04329069]\n",
    "#  [ 0.03254923]\n",
    "#  [-0.01781632]]\n",
    "all_xs = np.expand_dims(xData[:,0], axis=1)"
   ]
  },
  {
   "cell_type": "code",
   "execution_count": 91,
   "metadata": {
    "collapsed": true
   },
   "outputs": [],
   "source": [
    "# Another 2D array with 0 1 or 1 0 in each row\n",
    "# 1 0 indicates a UP day\n",
    "# 0 1 indicates a DOWN day\n",
    "# [[0 1]\n",
    "#  [1 0]\n",
    "#  [1 0]\n",
    "#  [1 0]\n",
    "#  [1 0]]\n",
    "all_ys = np.array([([1,0] if yEl == True else [0,1]) for yEl in yData])"
   ]
  },
  {
   "cell_type": "code",
   "execution_count": 92,
   "metadata": {
    "collapsed": true
   },
   "outputs": [],
   "source": [
    "dataset_size = len(all_xs)"
   ]
  },
  {
   "cell_type": "code",
   "execution_count": 93,
   "metadata": {
    "collapsed": true
   },
   "outputs": [],
   "source": [
    "def trainWithMultiplePointsPerEpoch(steps, train_step, batch_size):\n",
    "  init = tf.global_variables_initializer()\n",
    "\n",
    "  with tf.Session() as sess:\n",
    "    sess.run(init)\n",
    "\n",
    "    for i in range(steps):\n",
    "      if dataset_size == batch_size:\n",
    "        batch_start_idx = 0\n",
    "      elif dataset_size < batch_size:\n",
    "        raise ValueError(\"dataset_size: %d, must be greater than batch_size: %d\" % (dataset_size, batch_size))\n",
    "      else:\n",
    "        batch_start_idx = (i * batch_size) % (dataset_size)\n",
    "\n",
    "      batch_end_idx = batch_start_idx + batch_size\n",
    "\n",
    "      batch_xs = all_xs[batch_start_idx : batch_end_idx]\n",
    "      batch_ys = all_ys[batch_start_idx : batch_end_idx]\n",
    "\n",
    "      feed = { x: batch_xs, y_: batch_ys }\n",
    "\n",
    "      sess.run(train_step, feed_dict=feed)\n",
    "\n",
    "      if (i + 1) % 1000 == 0:\n",
    "        print(\"After %d iteration:\" % i)\n",
    "        print(sess.run(W))\n",
    "        print(sess.run(b))\n",
    "\n",
    "        print(\"cross entropy: %f\" % sess.run(cross_entropy, feed_dict=feed))\n",
    "\n",
    "    # Test model\n",
    "    correct_prediction = tf.equal(tf.argmax(y_, 1), tf.argmax(y, 1))\n",
    "\n",
    "    # Calculate accuracy\n",
    "    accuracy = tf.reduce_mean(tf.cast(correct_prediction, tf.float32))\n",
    "\n",
    "    print(\"Accuracy: %f\" % sess.run(accuracy, feed_dict={x: all_xs, y_: all_ys}))"
   ]
  },
  {
   "cell_type": "code",
   "execution_count": 94,
   "metadata": {
    "collapsed": false
   },
   "outputs": [
    {
     "name": "stdout",
     "output_type": "stream",
     "text": [
      "After 999 iteration:\n",
      "[[ 5.1963048  -3.19630456]]\n",
      "[ 0.13512917 -0.13512877]\n",
      "cross entropy: 0.609988\n",
      "After 1999 iteration:\n",
      "[[ 7.97379589 -5.97379446]]\n",
      "[ 0.1246955  -0.12469481]\n",
      "cross entropy: 0.578771\n",
      "After 2999 iteration:\n",
      "[[ 9.93583584 -7.93583155]]\n",
      "[ 0.11727998 -0.11727909]\n",
      "cross entropy: 0.563244\n",
      "After 3999 iteration:\n",
      "[[ 11.39067936  -9.39067459]]\n",
      "[ 0.1116586  -0.11165741]\n",
      "cross entropy: 0.554723\n",
      "After 4999 iteration:\n",
      "[[ 12.50571728 -10.50571251]]\n",
      "[ 0.10726263 -0.10726164]\n",
      "cross entropy: 0.549724\n",
      "After 5999 iteration:\n",
      "[[ 13.38033104 -11.38032627]]\n",
      "[ 0.10375845 -0.10375739]\n",
      "cross entropy: 0.546651\n",
      "After 6999 iteration:\n",
      "[[ 14.07798862 -12.07798386]]\n",
      "[ 0.10092742 -0.10092653]\n",
      "cross entropy: 0.544697\n",
      "After 7999 iteration:\n",
      "[[ 14.64153481 -12.64153004]]\n",
      "[ 0.09861771 -0.09861692]\n",
      "cross entropy: 0.543422\n",
      "After 8999 iteration:\n",
      "[[ 15.10115719 -13.10115242]]\n",
      "[ 0.09671905 -0.09671836]\n",
      "cross entropy: 0.542574\n",
      "After 9999 iteration:\n",
      "[[ 15.47883224 -13.47882748]]\n",
      "[ 0.0951491  -0.09514851]\n",
      "cross entropy: 0.542002\n",
      "After 10999 iteration:\n",
      "[[ 15.79102421 -13.79101944]]\n",
      "[ 0.09384488 -0.09384428]\n",
      "cross entropy: 0.541611\n",
      "After 11999 iteration:\n",
      "[[ 16.05031776 -14.05031586]]\n",
      "[ 0.09275723 -0.09275663]\n",
      "cross entropy: 0.541341\n",
      "After 12999 iteration:\n",
      "[[ 16.26652336 -14.26651669]]\n",
      "[ 0.09184732 -0.09184675]\n",
      "cross entropy: 0.541154\n",
      "After 13999 iteration:\n",
      "[[ 16.44734573 -14.44734669]]\n",
      "[ 0.0910843  -0.09108362]\n",
      "cross entropy: 0.541022\n",
      "After 14999 iteration:\n",
      "[[ 16.59897804 -14.59898663]]\n",
      "[ 0.09044305 -0.09044226]\n",
      "cross entropy: 0.540930\n",
      "After 15999 iteration:\n",
      "[[ 16.7264061  -14.72641659]]\n",
      "[ 0.08990304 -0.08990237]\n",
      "cross entropy: 0.540865\n",
      "After 16999 iteration:\n",
      "[[ 16.83369637 -14.83368778]]\n",
      "[ 0.08944772 -0.0894472 ]\n",
      "cross entropy: 0.540819\n",
      "After 17999 iteration:\n",
      "[[ 16.92415047 -14.92413235]]\n",
      "[ 0.08906334 -0.08906295]\n",
      "cross entropy: 0.540786\n",
      "After 18999 iteration:\n",
      "[[ 17.00047112 -15.00048828]]\n",
      "[ 0.08873878 -0.08873811]\n",
      "cross entropy: 0.540763\n",
      "After 19999 iteration:\n",
      "[[ 17.06497383 -15.06499386]]\n",
      "[ 0.08846406 -0.08846357]\n",
      "cross entropy: 0.540746\n",
      "Accuracy: 0.728000\n"
     ]
    }
   ],
   "source": [
    "trainWithMultiplePointsPerEpoch(20000, train_step, dataset_size)"
   ]
  },
  {
   "cell_type": "code",
   "execution_count": null,
   "metadata": {
    "collapsed": true
   },
   "outputs": [],
   "source": []
  }
 ],
 "metadata": {
  "kernelspec": {
   "display_name": "Python 2",
   "language": "python",
   "name": "python2"
  },
  "language_info": {
   "codemirror_mode": {
    "name": "ipython",
    "version": 2
   },
   "file_extension": ".py",
   "mimetype": "text/x-python",
   "name": "python",
   "nbconvert_exporter": "python",
   "pygments_lexer": "ipython2",
   "version": "2.7.11"
  }
 },
 "nbformat": 4,
 "nbformat_minor": 2
}
